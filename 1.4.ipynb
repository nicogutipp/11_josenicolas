{
 "cells": [
  {
   "cell_type": "markdown",
   "id": "24d8b7e1",
   "metadata": {},
   "source": [
    "# Ejercicios sobre Comentarios en Python\n",
    "Este notebook contiene **5 ejercicios** para practicar cómo escribir comentarios en Python:\n",
    "- Comentarios de una sola línea (`#`)\n",
    "- Comentarios al final de línea\n",
    "- Comentarios en varias líneas\n",
    "- Docstrings (`\"\"\" ... \"\"\"`)\n",
    "- Desactivar código comentándolo.\n",
    "\n",
    "> Intenta resolver cada ejercicio añadiendo tus propios comentarios."
   ]
  },
  {
   "cell_type": "markdown",
   "id": "0f2915bc",
   "metadata": {},
   "source": [
    "## 1️⃣ Añadir comentarios descriptivos\n",
    "**Enunciado:**\n",
    "El siguiente código no tiene ninguna explicación. Añade **comentarios con `#`** para que quede claro qué hace cada línea.\n",
    "```python\n",
    "x = 8\n",
    "y = 3\n",
    "print(x * y)\n",
    "```"
   ]
  },
  {
   "cell_type": "code",
   "execution_count": null,
   "id": "3e79fec8",
   "metadata": {},
   "outputs": [],
   "source": [
    "# Escribe aquí tu solución"
   ]
  },
  {
   "cell_type": "markdown",
   "id": "9cfcb51b",
   "metadata": {},
   "source": [
    "## 2️⃣ Comentario al final de la línea\n",
    "**Enunciado:**\n",
    "Agrega un comentario al final de cada instrucción explicando su función.\n",
    "```python\n",
    "a = 5\n",
    "b = 2\n",
    "print(a / b)\n",
    "```"
   ]
  },
  {
   "cell_type": "code",
   "execution_count": null,
   "id": "1e048a9e",
   "metadata": {},
   "outputs": [],
   "source": [
    "# Escribe aquí tu solución"
   ]
  },
  {
   "cell_type": "markdown",
   "id": "c7cdedb9",
   "metadata": {},
   "source": [
    "## 3️⃣ Explicación en varias líneas\n",
    "**Enunciado:**\n",
    "Escribe un **comentario de varias líneas con `#`** al inicio que explique lo que hace este programa.\n",
    "```python\n",
    "nombre = input(\"Introduce tu nombre: \")\n",
    "print(\"Hola\", nombre)\n",
    "```"
   ]
  },
  {
   "cell_type": "code",
   "execution_count": null,
   "id": "8259e20b",
   "metadata": {},
   "outputs": [],
   "source": [
    "# Escribe aquí tu solución"
   ]
  },
  {
   "cell_type": "markdown",
   "id": "fbad35c9",
   "metadata": {},
   "source": [
    "## 4️⃣ Docstring en función\n",
    "**Enunciado:**\n",
    "Completa el **docstring** de esta función para explicar qué hace y qué devuelve.\n",
    "```python\n",
    "def cuadrado(n):\n",
    "    return n ** 2\n",
    "```"
   ]
  },
  {
   "cell_type": "code",
   "execution_count": null,
   "id": "d0360ed1",
   "metadata": {},
   "outputs": [],
   "source": [
    "# Escribe aquí tu solución"
   ]
  },
  {
   "cell_type": "markdown",
   "id": "1824d4e6",
   "metadata": {},
   "source": [
    "## 5️⃣ Eliminar un `print` sin borrarlo\n",
    "**Enunciado:**\n",
    "Desactiva la segunda línea del siguiente código usando un comentario, de forma que no se ejecute.\n",
    "```python\n",
    "print(\"Hola\")\n",
    "print(\"Esto no debe verse\")\n",
    "print(\"Adiós\")\n",
    "```"
   ]
  },
  {
   "cell_type": "code",
   "execution_count": null,
   "id": "033357b6",
   "metadata": {},
   "outputs": [],
   "source": [
    "# Escribe aquí tu solución"
   ]
  }
 ],
 "metadata": {},
 "nbformat": 4,
 "nbformat_minor": 5
}